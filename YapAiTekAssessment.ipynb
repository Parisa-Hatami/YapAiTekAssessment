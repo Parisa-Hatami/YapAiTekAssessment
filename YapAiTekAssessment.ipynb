{
  "nbformat": 4,
  "nbformat_minor": 0,
  "metadata": {
    "colab": {
      "name": "YapAiTekAssessment.ipynb",
      "provenance": [],
      "collapsed_sections": [],
      "authorship_tag": "ABX9TyO/76DzHMwGF8oy/MoPbHS7",
      "include_colab_link": true
    },
    "kernelspec": {
      "name": "python3",
      "display_name": "Python 3"
    },
    "accelerator": "GPU"
  },
  "cells": [
    {
      "cell_type": "markdown",
      "metadata": {
        "id": "view-in-github",
        "colab_type": "text"
      },
      "source": [
        "<a href=\"https://colab.research.google.com/github/Parisa-Hatami/YapAiTekAssessment/blob/master/YapAiTekAssessment.ipynb\" target=\"_parent\"><img src=\"https://colab.research.google.com/assets/colab-badge.svg\" alt=\"Open In Colab\"/></a>"
      ]
    },
    {
      "cell_type": "code",
      "metadata": {
        "id": "h3CMCEgYNmRE",
        "colab_type": "code",
        "outputId": "14d94acf-d67e-4b27-b215-7d07b3b9d586",
        "colab": {
          "base_uri": "https://localhost:8080/",
          "height": 34
        }
      },
      "source": [
        "%tensorflow_version 1.x"
      ],
      "execution_count": 1,
      "outputs": [
        {
          "output_type": "stream",
          "text": [
            "TensorFlow 1.x selected.\n"
          ],
          "name": "stdout"
        }
      ]
    },
    {
      "cell_type": "code",
      "metadata": {
        "id": "HcdNsItONyYN",
        "colab_type": "code",
        "outputId": "94457f72-0e5e-456c-a6a3-222c28570ad6",
        "colab": {
          "base_uri": "https://localhost:8080/",
          "height": 238
        }
      },
      "source": [
        "!pip install keras==2.1.0"
      ],
      "execution_count": 2,
      "outputs": [
        {
          "output_type": "stream",
          "text": [
            "Collecting keras==2.1.0\n",
            "\u001b[?25l  Downloading https://files.pythonhosted.org/packages/bf/c2/b0c2ece713e754d1692aa432ad682751cd1ad6abf7500a534558b1fbfbe7/Keras-2.1.0-py2.py3-none-any.whl (302kB)\n",
            "\r\u001b[K     |█                               | 10kB 25.1MB/s eta 0:00:01\r\u001b[K     |██▏                             | 20kB 3.1MB/s eta 0:00:01\r\u001b[K     |███▎                            | 30kB 3.7MB/s eta 0:00:01\r\u001b[K     |████▍                           | 40kB 4.0MB/s eta 0:00:01\r\u001b[K     |█████▍                          | 51kB 3.6MB/s eta 0:00:01\r\u001b[K     |██████▌                         | 61kB 3.9MB/s eta 0:00:01\r\u001b[K     |███████▋                        | 71kB 4.2MB/s eta 0:00:01\r\u001b[K     |████████▊                       | 81kB 4.6MB/s eta 0:00:01\r\u001b[K     |█████████▊                      | 92kB 5.0MB/s eta 0:00:01\r\u001b[K     |██████████▉                     | 102kB 4.9MB/s eta 0:00:01\r\u001b[K     |████████████                    | 112kB 4.9MB/s eta 0:00:01\r\u001b[K     |█████████████                   | 122kB 4.9MB/s eta 0:00:01\r\u001b[K     |██████████████                  | 133kB 4.9MB/s eta 0:00:01\r\u001b[K     |███████████████▏                | 143kB 4.9MB/s eta 0:00:01\r\u001b[K     |████████████████▎               | 153kB 4.9MB/s eta 0:00:01\r\u001b[K     |█████████████████▍              | 163kB 4.9MB/s eta 0:00:01\r\u001b[K     |██████████████████▍             | 174kB 4.9MB/s eta 0:00:01\r\u001b[K     |███████████████████▌            | 184kB 4.9MB/s eta 0:00:01\r\u001b[K     |████████████████████▋           | 194kB 4.9MB/s eta 0:00:01\r\u001b[K     |█████████████████████▊          | 204kB 4.9MB/s eta 0:00:01\r\u001b[K     |██████████████████████▊         | 215kB 4.9MB/s eta 0:00:01\r\u001b[K     |███████████████████████▉        | 225kB 4.9MB/s eta 0:00:01\r\u001b[K     |█████████████████████████       | 235kB 4.9MB/s eta 0:00:01\r\u001b[K     |██████████████████████████      | 245kB 4.9MB/s eta 0:00:01\r\u001b[K     |███████████████████████████     | 256kB 4.9MB/s eta 0:00:01\r\u001b[K     |████████████████████████████▏   | 266kB 4.9MB/s eta 0:00:01\r\u001b[K     |█████████████████████████████▎  | 276kB 4.9MB/s eta 0:00:01\r\u001b[K     |██████████████████████████████▍ | 286kB 4.9MB/s eta 0:00:01\r\u001b[K     |███████████████████████████████▍| 296kB 4.9MB/s eta 0:00:01\r\u001b[K     |████████████████████████████████| 307kB 4.9MB/s \n",
            "\u001b[?25hRequirement already satisfied: scipy>=0.14 in /usr/local/lib/python3.6/dist-packages (from keras==2.1.0) (1.4.1)\n",
            "Requirement already satisfied: numpy>=1.9.1 in /usr/local/lib/python3.6/dist-packages (from keras==2.1.0) (1.18.4)\n",
            "Requirement already satisfied: pyyaml in /usr/local/lib/python3.6/dist-packages (from keras==2.1.0) (3.13)\n",
            "Requirement already satisfied: six>=1.9.0 in /usr/local/lib/python3.6/dist-packages (from keras==2.1.0) (1.12.0)\n",
            "\u001b[31mERROR: textgenrnn 1.4.1 has requirement keras>=2.1.5, but you'll have keras 2.1.0 which is incompatible.\u001b[0m\n",
            "Installing collected packages: keras\n",
            "  Found existing installation: Keras 2.3.1\n",
            "    Uninstalling Keras-2.3.1:\n",
            "      Successfully uninstalled Keras-2.3.1\n",
            "Successfully installed keras-2.1.0\n"
          ],
          "name": "stdout"
        }
      ]
    },
    {
      "cell_type": "code",
      "metadata": {
        "id": "pUQpLlscO2vl",
        "colab_type": "code",
        "outputId": "15ebcdef-f6ac-42af-9cad-31b8d6b58b78",
        "colab": {
          "base_uri": "https://localhost:8080/",
          "height": 122
        }
      },
      "source": [
        "from google.colab import drive\n",
        "drive.mount('/content/drive')"
      ],
      "execution_count": 3,
      "outputs": [
        {
          "output_type": "stream",
          "text": [
            "Go to this URL in a browser: https://accounts.google.com/o/oauth2/auth?client_id=947318989803-6bn6qk8qdgf4n4g3pfee6491hc0brc4i.apps.googleusercontent.com&redirect_uri=urn%3aietf%3awg%3aoauth%3a2.0%3aoob&response_type=code&scope=email%20https%3a%2f%2fwww.googleapis.com%2fauth%2fdocs.test%20https%3a%2f%2fwww.googleapis.com%2fauth%2fdrive%20https%3a%2f%2fwww.googleapis.com%2fauth%2fdrive.photos.readonly%20https%3a%2f%2fwww.googleapis.com%2fauth%2fpeopleapi.readonly\n",
            "\n",
            "Enter your authorization code:\n",
            "··········\n",
            "Mounted at /content/drive\n"
          ],
          "name": "stdout"
        }
      ]
    },
    {
      "cell_type": "code",
      "metadata": {
        "id": "S9z35kwNa8ei",
        "colab_type": "code",
        "outputId": "f7d09675-6c4b-488d-bf78-488a3e051fd5",
        "colab": {
          "base_uri": "https://localhost:8080/",
          "height": 265
        }
      },
      "source": [
        "#plot dataset\n",
        "import pandas as pd\n",
        "import matplotlib.pyplot as plt\n",
        "dataset = pd.read_csv('/content/drive/My Drive/psi_df_2016_2019.csv', usecols=['national'])\n",
        "plt.plot(dataset)\n",
        "plt.show()"
      ],
      "execution_count": 4,
      "outputs": [
        {
          "output_type": "display_data",
          "data": {
            "image/png": "[encoded data removed]",
            "text/plain": [
              "<Figure size 432x288 with 1 Axes>"
            ]
          },
          "metadata": {
            "tags": [],
            "needs_background": "light"
          }
        }
      ]
    },
    {
      "cell_type": "code",
      "metadata": {
        "id": "KMhunrzKdeAJ",
        "colab_type": "code",
        "outputId": "931e6f5f-5059-4e41-8d65-4381e68cd2aa",
        "colab": {
          "base_uri": "https://localhost:8080/",
          "height": 34
        }
      },
      "source": [
        "import numpy as np\n",
        "import matplotlib.pyplot as plt\n",
        "import pandas as pd\n",
        "import math\n",
        "from keras.models import Sequential\n",
        "from keras.layers import Dense\n",
        "from keras.layers import LSTM\n",
        "from sklearn.preprocessing import MinMaxScaler\n",
        "from sklearn.metrics import mean_squared_error"
      ],
      "execution_count": 5,
      "outputs": [
        {
          "output_type": "stream",
          "text": [
            "Using TensorFlow backend.\n"
          ],
          "name": "stderr"
        }
      ]
    },
    {
      "cell_type": "code",
      "metadata": {
        "id": "rxENS6KuHSuF",
        "colab_type": "code",
        "colab": {}
      },
      "source": [
        "# load the dataset\n",
        "dataframe = pd.read_csv('/content/drive/My Drive/psi_df_2016_2019.csv', usecols=['national'])\n",
        "dataset = dataframe.values\n",
        "dataset = dataset.astype('float32')"
      ],
      "execution_count": 0,
      "outputs": []
    },
    {
      "cell_type": "code",
      "metadata": {
        "id": "TSsiwdn-HoqC",
        "colab_type": "code",
        "colab": {}
      },
      "source": [
        "# normalize the dataset\n",
        "scaler = MinMaxScaler(feature_range=(0, 1))\n",
        "dataset = scaler.fit_transform(dataset)"
      ],
      "execution_count": 0,
      "outputs": []
    },
    {
      "cell_type": "code",
      "metadata": {
        "id": "FyxXEJClHyZI",
        "colab_type": "code",
        "outputId": "a09d62ef-ba3e-4a07-fe2b-df870bb2795b",
        "colab": {
          "base_uri": "https://localhost:8080/",
          "height": 34
        }
      },
      "source": [
        "# split into train and test sets\n",
        "train_size = int(len(dataset) * 0.7)\n",
        "test_size = len(dataset) - train_size\n",
        "train, test = dataset[0:train_size,:], dataset[train_size:len(dataset),:]\n",
        "print(len(train), len(test))"
      ],
      "execution_count": 8,
      "outputs": [
        {
          "output_type": "stream",
          "text": [
            "21015 9007\n"
          ],
          "name": "stdout"
        }
      ]
    },
    {
      "cell_type": "code",
      "metadata": {
        "id": "4rJfNZ3zH7lx",
        "colab_type": "code",
        "colab": {}
      },
      "source": [
        "# convert an array of values into a dataset matrix\n",
        "def create_dataset(dataset, look_back=1):\n",
        "\tdataX, dataY = [], []\n",
        "\tfor i in range(len(dataset)-look_back-1):\n",
        "\t\ta = dataset[i:(i+look_back), 0]\n",
        "\t\tdataX.append(a)\n",
        "\t\tdataY.append(dataset[i + look_back, 0])\n",
        "\treturn np.array(dataX), np.array(dataY)"
      ],
      "execution_count": 0,
      "outputs": []
    },
    {
      "cell_type": "code",
      "metadata": {
        "id": "omJK3UyAIMyp",
        "colab_type": "code",
        "colab": {}
      },
      "source": [
        "# reshape into X=t and Y=t+1\n",
        "look_back = 1\n",
        "trainX, trainY = create_dataset(train, look_back)\n",
        "testX, testY = create_dataset(test, look_back)"
      ],
      "execution_count": 0,
      "outputs": []
    },
    {
      "cell_type": "code",
      "metadata": {
        "id": "EZVlU1S0IW4H",
        "colab_type": "code",
        "colab": {}
      },
      "source": [
        "# reshape input to be [samples, time steps, features]\n",
        "trainX = np.reshape(trainX, (trainX.shape[0], 1, trainX.shape[1]))\n",
        "testX = np.reshape(testX, (testX.shape[0], 1, testX.shape[1]))"
      ],
      "execution_count": 0,
      "outputs": []
    },
    {
      "cell_type": "code",
      "metadata": {
        "id": "Lq7e2vmDKsIg",
        "colab_type": "code",
        "outputId": "1681c88f-6bd1-4cbf-c57b-e62d2a73e600",
        "colab": {
          "base_uri": "https://localhost:8080/",
          "height": 374
        }
      },
      "source": [
        "# create and fit the LSTM network\n",
        "model = Sequential()\n",
        "model.add(LSTM(4, input_shape=(1, look_back)))\n",
        "model.add(Dense(1))\n",
        "model.compile(loss='mean_squared_error', optimizer='adam')\n",
        "model.fit(trainX, trainY, epochs=10, batch_size=1, verbose=1)"
      ],
      "execution_count": 14,
      "outputs": [
        {
          "output_type": "stream",
          "text": [
            "Epoch 1/10\n",
            "21013/21013 [==============================] - 97s 5ms/step - loss: 9.6046e-04\n",
            "Epoch 2/10\n",
            "21013/21013 [==============================] - 96s 5ms/step - loss: 9.3098e-05\n",
            "Epoch 3/10\n",
            "21013/21013 [==============================] - 96s 5ms/step - loss: 9.2899e-05\n",
            "Epoch 4/10\n",
            "21013/21013 [==============================] - 97s 5ms/step - loss: 9.2983e-05\n",
            "Epoch 5/10\n",
            "21013/21013 [==============================] - 96s 5ms/step - loss: 9.2087e-05\n",
            "Epoch 6/10\n",
            "21013/21013 [==============================] - 95s 5ms/step - loss: 9.1863e-05\n",
            "Epoch 7/10\n",
            "21013/21013 [==============================] - 96s 5ms/step - loss: 9.2193e-05\n",
            "Epoch 8/10\n",
            "21013/21013 [==============================] - 96s 5ms/step - loss: 9.1828e-05\n",
            "Epoch 9/10\n",
            "21013/21013 [==============================] - 96s 5ms/step - loss: 9.1290e-05\n",
            "Epoch 10/10\n",
            "21013/21013 [==============================] - 95s 5ms/step - loss: 9.1062e-05\n"
          ],
          "name": "stdout"
        },
        {
          "output_type": "execute_result",
          "data": {
            "text/plain": [
              "<keras.callbacks.History at 0x7f66316b4e80>"
            ]
          },
          "metadata": {
            "tags": []
          },
          "execution_count": 14
        }
      ]
    },
    {
      "cell_type": "code",
      "metadata": {
        "id": "gk3lxu8O76Mq",
        "colab_type": "code",
        "colab": {
          "base_uri": "https://localhost:8080/",
          "height": 51
        },
        "outputId": "758510d2-8f5c-493f-cda2-8ad0e3b1cde8"
      },
      "source": [
        "# make predictions\n",
        "trainPredict = model.predict(trainX)\n",
        "testPredict = model.predict(testX)\n",
        "# invert predictions\n",
        "trainPredict = scaler.inverse_transform(trainPredict)\n",
        "trainY = scaler.inverse_transform([trainY])\n",
        "testPredict = scaler.inverse_transform(testPredict)\n",
        "testY = scaler.inverse_transform([testY])\n",
        "# calculate root mean squared error\n",
        "trainScore = math.sqrt(mean_squared_error(trainY[0], trainPredict[:,0]))\n",
        "print('Train Score: %.2f RMSE' % (trainScore))\n",
        "testScore = math.sqrt(mean_squared_error(testY[0], testPredict[:,0]))\n",
        "print('Test Score: %.2f RMSE' % (testScore))"
      ],
      "execution_count": 15,
      "outputs": [
        {
          "output_type": "stream",
          "text": [
            "Train Score: 1.23 RMSE\n",
            "Test Score: 1.24 RMSE\n"
          ],
          "name": "stdout"
        }
      ]
    },
    {
      "cell_type": "code",
      "metadata": {
        "id": "ugDno3lC8MPi",
        "colab_type": "code",
        "colab": {
          "base_uri": "https://localhost:8080/",
          "height": 543
        },
        "outputId": "5a42fde1-9148-454f-81f0-d11187225f8b"
      },
      "source": [
        "# shift train predictions for plotting\n",
        "trainPredictPlot = np.empty_like(dataset)\n",
        "trainPredictPlot[:, :] = np.nan\n",
        "trainPredictPlot[look_back:len(trainPredict)+look_back, :] = trainPredict\n",
        "# shift test predictions for plotting\n",
        "testPredictPlot = np.empty_like(dataset)\n",
        "testPredictPlot[:, :] = np.nan\n",
        "testPredictPlot[len(trainPredict)+(look_back*2)+1:len(dataset)-1, :] = testPredict\n",
        "# plot baseline and predictions\n",
        "plt.plot(scaler.inverse_transform(dataset), color = 'black', label = 'dataset')\n",
        "plt.plot(trainPredictPlot, color = 'orange', label = 'train')\n",
        "plt.plot(testPredictPlot, color = 'green', label = 'test')\n",
        "plt.title('PSI levels in Singapore')\n",
        "plt.xlabel('Time')\n",
        "plt.ylabel('Air quality')\n",
        "plt.legend()\n",
        "plt.show()\n",
        "plt.plot(scaler.inverse_transform(dataset), color = 'black')\n",
        "plt.show()"
      ],
      "execution_count": 20,
      "outputs": [
        {
          "output_type": "display_data",
          "data": {
            "image/png": "[encoded data removed]",
            "text/plain": [
              "<Figure size 432x288 with 1 Axes>"
            ]
          },
          "metadata": {
            "tags": [],
            "needs_background": "light"
          }
        },
        {
          "output_type": "display_data",
          "data": {
            "image/png": "[encoded data removed]",
            "text/plain": [
              "<Figure size 432x288 with 1 Axes>"
            ]
          },
          "metadata": {
            "tags": [],
            "needs_background": "light"
          }
        }
      ]
    }
  ]
}